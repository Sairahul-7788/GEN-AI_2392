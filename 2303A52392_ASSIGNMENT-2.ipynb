{
  "nbformat": 4,
  "nbformat_minor": 0,
  "metadata": {
    "colab": {
      "provenance": [],
      "authorship_tag": "ABX9TyOkTbyYOZBgPr091EXEGjGS",
      "include_colab_link": true
    },
    "kernelspec": {
      "name": "python3",
      "display_name": "Python 3"
    },
    "language_info": {
      "name": "python"
    }
  },
  "cells": [
    {
      "cell_type": "markdown",
      "metadata": {
        "id": "view-in-github",
        "colab_type": "text"
      },
      "source": [
        "<a href=\"https://colab.research.google.com/github/2303A52285/Generative-AI/blob/main/Generative_AI_2.ipynb\" target=\"_parent\"><img src=\"https://colab.research.google.com/assets/colab-badge.svg\" alt=\"Open In Colab\"/></a>"
      ]
    },
    {
      "cell_type": "code",
      "execution_count": 1,
      "metadata": {
        "id": "rwJVIRVHRTTR"
      },
      "outputs": [],
      "source": [
        "from scipy.optimize import linprog"
      ]
    },
    {
      "cell_type": "code",
      "source": [
        "profit = [-6, -5]"
      ],
      "metadata": {
        "id": "GyBZhWcBWzN6"
      },
      "execution_count": 2,
      "outputs": []
    },
    {
      "cell_type": "code",
      "source": [
        "lhs_ineq = [\n",
        "    [1, 1],\n",
        "    [3, 2]\n",
        "]"
      ],
      "metadata": {
        "id": "SEPA3U1mW6cu"
      },
      "execution_count": 3,
      "outputs": []
    },
    {
      "cell_type": "code",
      "source": [
        "rhs_ineq = [5, 12]"
      ],
      "metadata": {
        "id": "gVseSiJkXAzK"
      },
      "execution_count": 4,
      "outputs": []
    },
    {
      "cell_type": "code",
      "source": [
        "bounds = [(0, None), (0, None)]"
      ],
      "metadata": {
        "id": "LB94L65LXN6C"
      },
      "execution_count": 5,
      "outputs": []
    },
    {
      "cell_type": "code",
      "source": [
        "result = linprog(c=profit, A_ub=lhs_ineq, b_ub=rhs_ineq, bounds=bounds, method=\"highs\")"
      ],
      "metadata": {
        "id": "9cbWcFW8XUtZ"
      },
      "execution_count": 6,
      "outputs": []
    },
    {
      "cell_type": "code",
      "source": [
        "if result.success:\n",
        "    x, y = result.x\n",
        "    print(f\"Optimal number of units of Chocolate A: {x:.0f}\")\n",
        "    print(f\"Optimal number of units of Chocolate B: {y:.0f}\")\n",
        "    print(f\"Maximum Profit: Rs {(-result.fun):.2f}\")\n",
        "else:\n",
        "    print(\"No solution found.\")\n"
      ],
      "metadata": {
        "colab": {
          "base_uri": "https://localhost:8080/"
        },
        "id": "3_dmyFEFXaLt",
        "outputId": "80c82934-53e9-4b01-8b71-6cccde540716"
      },
      "execution_count": 8,
      "outputs": [
        {
          "output_type": "stream",
          "name": "stdout",
          "text": [
            "Optimal number of units of Chocolate A: 2\n",
            "Optimal number of units of Chocolate B: 3\n",
            "Maximum Profit: Rs 27.00\n"
          ]
        }
      ]
    },
    {
      "cell_type": "code",
      "source": [
        "from scipy.optimize import linprog"
      ],
      "metadata": {
        "id": "QQzd-SQ6Xgac"
      },
      "execution_count": 9,
      "outputs": []
    },
    {
      "cell_type": "code",
      "source": [
        "c = [-50, -120]\n",
        "A = [\n",
        "    [7000, 2000],\n",
        "    [10, 30],\n",
        "    [1, 1]\n",
        "]"
      ],
      "metadata": {
        "id": "pjWC3adOXlhJ"
      },
      "execution_count": 10,
      "outputs": []
    },
    {
      "cell_type": "code",
      "source": [
        "b = [700000, 1200, 110]"
      ],
      "metadata": {
        "id": "tDp3TH4CXqJ8"
      },
      "execution_count": 11,
      "outputs": []
    },
    {
      "cell_type": "code",
      "source": [
        "x_bounds = (0, None)  # Wheat >= 0\n",
        "y_bounds = (0, None)  # Barley >= 0"
      ],
      "metadata": {
        "id": "33RJzV_4Xt20"
      },
      "execution_count": 12,
      "outputs": []
    },
    {
      "cell_type": "code",
      "source": [
        "result = linprog(c, A_ub=A, b_ub=b, bounds=[x_bounds, y_bounds], method='highs')"
      ],
      "metadata": {
        "id": "fCvxwTN5XxdT"
      },
      "execution_count": 13,
      "outputs": []
    },
    {
      "cell_type": "code",
      "source": [
        "if result.success:\n",
        "    wheat, barley = result.x\n",
        "    max_profit = -result.fun\n",
        "    print(f\"Optimal planting: Wheat = {wheat:.2f} hectares, Barley = {barley:.2f} hectares\")\n",
        "    print(f\"Maximum profit: Rs {max_profit:.2f}\")\n",
        "else:\n",
        "    print(\"No feasible solution found.\")"
      ],
      "metadata": {
        "colab": {
          "base_uri": "https://localhost:8080/"
        },
        "id": "ZQ2MzSmtX1GU",
        "outputId": "4e66d73d-c4d2-495f-ac43-a649db936e9f"
      },
      "execution_count": 14,
      "outputs": [
        {
          "output_type": "stream",
          "name": "stdout",
          "text": [
            "Optimal planting: Wheat = 97.89 hectares, Barley = 7.37 hectares\n",
            "Maximum profit: Rs 5778.95\n"
          ]
        }
      ]
    }
  ]
}